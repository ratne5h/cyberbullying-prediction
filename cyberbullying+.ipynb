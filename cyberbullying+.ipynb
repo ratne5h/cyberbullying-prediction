{
  "cells": [
    {
      "cell_type": "code",
      "source": [
        "import numpy as np\n",
        "import pandas as pd\n",
        "import matplotlib.pyplot as plt\n",
        "import re\n",
        "import string\n",
        "from sklearn.ensemble import RandomForestClassifier\n",
        "from sklearn.feature_extraction.text import TfidfVectorizer\n",
        "from sklearn.metrics import accuracy_score\n",
        "from sklearn.model_selection import train_test_split\n",
        "from sklearn.feature_extraction.text import CountVectorizer\n",
        "from nltk.corpus import stopwords\n",
        "from nltk.stem import WordNetLemmatizer\n",
        "from nltk import word_tokenize\n",
        "import warnings"
      ],
      "outputs": [],
      "execution_count": 1,
      "metadata": {},
      "id": "66a5f825"
    },
    {
      "cell_type": "code",
      "source": [
        "data = pd.read_csv('cyberbullying_tweets.csv')\n",
        "data.head()"
      ],
      "outputs": [
        {
          "output_type": "execute_result",
          "execution_count": 2,
          "data": {
            "text/html": "<div>\n<style scoped>\n    .dataframe tbody tr th:only-of-type {\n        vertical-align: middle;\n    }\n\n    .dataframe tbody tr th {\n        vertical-align: top;\n    }\n\n    .dataframe thead th {\n        text-align: right;\n    }\n</style>\n<table border=\"1\" class=\"dataframe\">\n  <thead>\n    <tr style=\"text-align: right;\">\n      <th></th>\n      <th>tweet_text</th>\n      <th>cyberbullying_type</th>\n    </tr>\n  </thead>\n  <tbody>\n    <tr>\n      <th>0</th>\n      <td>In other words #katandandre, your food was cra...</td>\n      <td>not_cyberbullying</td>\n    </tr>\n    <tr>\n      <th>1</th>\n      <td>Why is #aussietv so white? #MKR #theblock #ImA...</td>\n      <td>not_cyberbullying</td>\n    </tr>\n    <tr>\n      <th>2</th>\n      <td>@XochitlSuckkks a classy whore? Or more red ve...</td>\n      <td>not_cyberbullying</td>\n    </tr>\n    <tr>\n      <th>3</th>\n      <td>@Jason_Gio meh. :P  thanks for the heads up, b...</td>\n      <td>not_cyberbullying</td>\n    </tr>\n    <tr>\n      <th>4</th>\n      <td>@RudhoeEnglish This is an ISIS account pretend...</td>\n      <td>not_cyberbullying</td>\n    </tr>\n  </tbody>\n</table>\n</div>",
            "text/plain": "                                          tweet_text cyberbullying_type\n0  In other words #katandandre, your food was cra...  not_cyberbullying\n1  Why is #aussietv so white? #MKR #theblock #ImA...  not_cyberbullying\n2  @XochitlSuckkks a classy whore? Or more red ve...  not_cyberbullying\n3  @Jason_Gio meh. :P  thanks for the heads up, b...  not_cyberbullying\n4  @RudhoeEnglish This is an ISIS account pretend...  not_cyberbullying"
          },
          "metadata": {}
        }
      ],
      "execution_count": 2,
      "metadata": {},
      "id": "847305ec"
    },
    {
      "cell_type": "code",
      "source": [
        "data.cyberbullying_type.value_counts()\n"
      ],
      "outputs": [
        {
          "output_type": "execute_result",
          "execution_count": 3,
          "data": {
            "text/plain": "religion               7998\nage                    7992\ngender                 7973\nethnicity              7961\nnot_cyberbullying      7945\nother_cyberbullying    7823\nName: cyberbullying_type, dtype: int64"
          },
          "metadata": {}
        }
      ],
      "execution_count": 3,
      "metadata": {},
      "id": "2576c130"
    },
    {
      "cell_type": "code",
      "source": [
        "data.isnull().sum()\n"
      ],
      "outputs": [
        {
          "output_type": "execute_result",
          "execution_count": 4,
          "data": {
            "text/plain": "tweet_text            0\ncyberbullying_type    0\ndtype: int64"
          },
          "metadata": {}
        }
      ],
      "execution_count": 4,
      "metadata": {},
      "id": "3283544d"
    },
    {
      "cell_type": "code",
      "source": [
        "# For lemmatize word\n",
        "lemma = WordNetLemmatizer()\n",
        "STOPWORDS = set(stopwords.words('english'))\n",
        "STOPWORDS.update(['im', 'wa', 'p', 't', 's', 'o', 'e', 'like'])\n",
        "\n",
        "def clean_text(text):\n",
        "    \n",
        "    # Remove Hashtag, Mention, https, www.asdfd, dsfadsf.com\n",
        "    pattern = re.compile(r\"(#[A-Za-z0-9]+|@[A-Za-z0-9]+|https?://\\S+|www\\.\\S+|\\S+\\.[a-z]+|RT @)\")\n",
        "    text = pattern.sub('', text)\n",
        "    text = \" \".join(text.split())\n",
        "    \n",
        "    # Make all text lowercase\n",
        "    text = text.lower()\n",
        "    \n",
        "    # Lemmatize word\n",
        "    text = \" \".join([lemma.lemmatize(word) for word in text.split()])\n",
        "    \n",
        "    # Remove Punctuation\n",
        "    remove_punc = re.compile(r\"[%s]\" % re.escape(string.punctuation))\n",
        "    text = remove_punc.sub('', text)\n",
        "    \n",
        "    # Remove stopwords\n",
        "    text = \" \".join([word for word in str(text).split() if word not in STOPWORDS])\n",
        "    \n",
        "    # Convert emoji to word\n",
        "    emoji = demoji.findall(text)\n",
        "    for emot in emoji:\n",
        "        text = re.sub(r\"(%s)\" % (emot), \"_\".join(emoji[emot].split()), text)\n",
        "\n",
        "    return text"
      ],
      "outputs": [],
      "execution_count": 5,
      "metadata": {},
      "id": "03561fb9"
    },
    {
      "cell_type": "code",
      "source": [
        "data.cyberbullying_type.unique()"
      ],
      "outputs": [
        {
          "output_type": "execute_result",
          "execution_count": 6,
          "data": {
            "text/plain": "array(['not_cyberbullying', 'gender', 'religion', 'other_cyberbullying',\n       'age', 'ethnicity'], dtype=object)"
          },
          "metadata": {}
        }
      ],
      "execution_count": 6,
      "metadata": {},
      "id": "077121d7"
    },
    {
      "cell_type": "code",
      "source": [
        "ENCODE_DICT = {'not_cyberbullying': 0,\n",
        "             'gender': 1,\n",
        "             'religion': 2,\n",
        "             'other_cyberbullying': 3,\n",
        "             'age': 4,\n",
        "             'ethnicity': 5}\n",
        "data['cyberbullying_type'] = data.cyberbullying_type.replace(ENCODE_DICT)\n",
        "print(data.cyberbullying_type.unique())\n",
        "data.sample(10)"
      ],
      "outputs": [
        {
          "output_type": "stream",
          "name": "stdout",
          "text": [
            "[0 1 2 3 4 5]\n"
          ]
        },
        {
          "output_type": "execute_result",
          "execution_count": 7,
          "data": {
            "text/html": "<div>\n<style scoped>\n    .dataframe tbody tr th:only-of-type {\n        vertical-align: middle;\n    }\n\n    .dataframe tbody tr th {\n        vertical-align: top;\n    }\n\n    .dataframe thead th {\n        text-align: right;\n    }\n</style>\n<table border=\"1\" class=\"dataframe\">\n  <thead>\n    <tr style=\"text-align: right;\">\n      <th></th>\n      <th>tweet_text</th>\n      <th>cyberbullying_type</th>\n    </tr>\n  </thead>\n  <tbody>\n    <tr>\n      <th>22006</th>\n      <td>All communities have bad people you can't say ...</td>\n      <td>2</td>\n    </tr>\n    <tr>\n      <th>14981</th>\n      <td>So I just heard the 5 min recording of the eng...</td>\n      <td>1</td>\n    </tr>\n    <tr>\n      <th>286</th>\n      <td>@JordanL yup!</td>\n      <td>0</td>\n    </tr>\n    <tr>\n      <th>5677</th>\n      <td>RT @forlornparadigm: Mass grave containing bod...</td>\n      <td>0</td>\n    </tr>\n    <tr>\n      <th>21053</th>\n      <td>Wrong as usual, Geraldo! A Civilized AMERICA c...</td>\n      <td>2</td>\n    </tr>\n    <tr>\n      <th>33202</th>\n      <td>#whyididntreportit i was 14 and man was 19. I ...</td>\n      <td>4</td>\n    </tr>\n    <tr>\n      <th>20390</th>\n      <td>That Christian woman did the right thing</td>\n      <td>2</td>\n    </tr>\n    <tr>\n      <th>20829</th>\n      <td>@soofy_01 And by doing so she helped subject t...</td>\n      <td>2</td>\n    </tr>\n    <tr>\n      <th>18577</th>\n      <td>what conservative policies are those? I can’t ...</td>\n      <td>2</td>\n    </tr>\n    <tr>\n      <th>8890</th>\n      <td>Omg!Can't wait until try hards, crazy eyed Kat...</td>\n      <td>1</td>\n    </tr>\n  </tbody>\n</table>\n</div>",
            "text/plain": "                                              tweet_text  cyberbullying_type\n22006  All communities have bad people you can't say ...                   2\n14981  So I just heard the 5 min recording of the eng...                   1\n286                                        @JordanL yup!                   0\n5677   RT @forlornparadigm: Mass grave containing bod...                   0\n21053  Wrong as usual, Geraldo! A Civilized AMERICA c...                   2\n33202  #whyididntreportit i was 14 and man was 19. I ...                   4\n20390           That Christian woman did the right thing                   2\n20829  @soofy_01 And by doing so she helped subject t...                   2\n18577  what conservative policies are those? I can’t ...                   2\n8890   Omg!Can't wait until try hards, crazy eyed Kat...                   1"
          },
          "metadata": {}
        }
      ],
      "execution_count": 7,
      "metadata": {},
      "id": "aa6ca19c"
    },
    {
      "cell_type": "code",
      "source": [
        "# Create word vector (count)\n",
        "CountVector = CountVectorizer(max_features=2000)\n",
        "\n",
        "X = CountVector.fit_transform(data.tweet_text).toarray()\n",
        "y = data.cyberbullying_type.values\n",
        "\n",
        "print(X.shape, y.shape)"
      ],
      "outputs": [
        {
          "output_type": "stream",
          "name": "stdout",
          "text": [
            "(47692, 2000) (47692,)\n"
          ]
        }
      ],
      "execution_count": 8,
      "metadata": {},
      "id": "8f04c6e1"
    },
    {
      "cell_type": "code",
      "source": [
        "X_train, X_test, y_train, y_test = train_test_split(X, y, test_size=.2, random_state=555)\n",
        "\n",
        "print(f\"X train data has shape {X_train.shape} and their label's shape {y_train.shape}\")\n",
        "print(f\"X test data has shape {X_test.shape} and their label's shape {y_test.shape}\")"
      ],
      "outputs": [
        {
          "output_type": "stream",
          "name": "stdout",
          "text": [
            "X train data has shape (38153, 2000) and their label's shape (38153,)\n",
            "X test data has shape (9539, 2000) and their label's shape (9539,)\n"
          ]
        }
      ],
      "execution_count": 9,
      "metadata": {},
      "id": "073e3c37"
    },
    {
      "cell_type": "code",
      "source": [
        "rf = RandomForestClassifier(random_state=42)\n",
        "rf.fit(X_train, y_train)"
      ],
      "outputs": [
        {
          "output_type": "execute_result",
          "execution_count": 10,
          "data": {
            "text/plain": "RandomForestClassifier(random_state=42)"
          },
          "metadata": {}
        }
      ],
      "execution_count": 10,
      "metadata": {},
      "id": "7704a5f4"
    },
    {
      "cell_type": "code",
      "source": [
        "y_pred = rf.predict(X_test)\n",
        "print('Accuracy : %f' %(accuracy_score(y_pred, y_test)))"
      ],
      "outputs": [
        {
          "output_type": "stream",
          "name": "stdout",
          "text": [
            "Accuracy : 0.816752\n"
          ]
        }
      ],
      "execution_count": 11,
      "metadata": {},
      "id": "df592b1a"
    }
  ],
  "metadata": {
    "kernelspec": {
      "display_name": "Python 3 (ipykernel)",
      "language": "python",
      "name": "python3"
    },
    "language_info": {
      "codemirror_mode": {
        "name": "ipython",
        "version": 3
      },
      "file_extension": ".py",
      "mimetype": "text/x-python",
      "name": "python",
      "nbconvert_exporter": "python",
      "pygments_lexer": "ipython3",
      "version": "3.9.7"
    },
    "nteract": {
      "version": "0.28.0"
    }
  },
  "nbformat": 4,
  "nbformat_minor": 5
}